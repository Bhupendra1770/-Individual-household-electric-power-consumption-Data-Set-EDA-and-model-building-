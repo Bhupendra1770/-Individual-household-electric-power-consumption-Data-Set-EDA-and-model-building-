{
 "cells": [
  {
   "cell_type": "code",
   "execution_count": 1,
   "id": "9761fbd4",
   "metadata": {},
   "outputs": [],
   "source": [
    "import pandas as pd\n",
    "import pickle\n",
    "import seaborn as sns\n",
    "import matplotlib.pyplot as plt\n",
    "import numpy as np"
   ]
  },
  {
   "cell_type": "code",
   "execution_count": 2,
   "id": "9042353f",
   "metadata": {},
   "outputs": [],
   "source": [
    "preprocess_model = pickle.load(open('preprocess_model.pkl','rb'))"
   ]
  },
  {
   "cell_type": "markdown",
   "id": "7644ab21",
   "metadata": {},
   "source": [
    "Restoring data from pickel file to variable"
   ]
  },
  {
   "cell_type": "code",
   "execution_count": 3,
   "id": "61292582",
   "metadata": {},
   "outputs": [],
   "source": [
    "x_train = preprocess_model[0]\n",
    "y_train = preprocess_model[1]\n",
    "x_test = preprocess_model[2]\n",
    "y_test = preprocess_model[3]"
   ]
  },
  {
   "cell_type": "markdown",
   "id": "94294f4f",
   "metadata": {},
   "source": [
    "# Linear regression"
   ]
  },
  {
   "cell_type": "code",
   "execution_count": 4,
   "id": "0e525597",
   "metadata": {},
   "outputs": [],
   "source": [
    "from sklearn.linear_model import LinearRegression"
   ]
  },
  {
   "cell_type": "code",
   "execution_count": 5,
   "id": "2fc1298a",
   "metadata": {},
   "outputs": [],
   "source": [
    "regression = LinearRegression()"
   ]
  },
  {
   "cell_type": "code",
   "execution_count": 6,
   "id": "5d8da579",
   "metadata": {},
   "outputs": [
    {
     "data": {
      "text/plain": [
       "LinearRegression()"
      ]
     },
     "execution_count": 6,
     "metadata": {},
     "output_type": "execute_result"
    }
   ],
   "source": [
    "regression.fit(x_train,y_train)"
   ]
  },
  {
   "cell_type": "code",
   "execution_count": 7,
   "id": "6c4ed39e",
   "metadata": {},
   "outputs": [
    {
     "name": "stdout",
     "output_type": "stream",
     "text": [
      "[ 241.43824282    0.29956773    1.93156076 -133.79361719]\n",
      "307.33452006980804\n"
     ]
    }
   ],
   "source": [
    "print(regression.coef_)\n",
    "print(regression.intercept_)"
   ]
  },
  {
   "cell_type": "code",
   "execution_count": 8,
   "id": "8016a33b",
   "metadata": {},
   "outputs": [],
   "source": [
    "# prediction for test data\n",
    "reg_pred= regression.predict(x_test)"
   ]
  },
  {
   "cell_type": "code",
   "execution_count": 9,
   "id": "a6c416d6",
   "metadata": {},
   "outputs": [
    {
     "data": {
      "text/plain": [
       "array([369.47692213, 149.75793751, 364.75716305, 295.94196972,\n",
       "       133.65255732, 276.42539732, 260.44763676, 609.40538758,\n",
       "       444.66114621, 124.8005163 , 444.79045205, 244.64269497,\n",
       "       325.39516569, 502.21348636, 268.66000089, 536.18146691,\n",
       "       308.98216506, 168.49080865, 224.28260447, 329.80977285,\n",
       "       226.58223691, 148.7669609 , 305.27007723, 293.00498774,\n",
       "       193.79969775, 204.35897771, 359.14290197, 405.55392131,\n",
       "       177.25768787, 389.11201975, 294.11360717, 314.32646274,\n",
       "       384.78165165, 393.61268264, 577.15535637, 205.76917261,\n",
       "        95.87003768, 182.68695399, 517.98734606, 273.45562209,\n",
       "       546.12806327, 284.10643202,   6.85850795, 352.98987346,\n",
       "       386.08617774, 271.32714779, 338.90794874, 259.45676405,\n",
       "       316.26399964, 373.39965688, 140.05210812, 341.31584266,\n",
       "       361.36864058, 478.50058876, 236.91697016, 334.00199934,\n",
       "       339.79019663, 192.21597953, 166.2109765 , 213.34955829,\n",
       "       259.85086372, 367.61953943,  59.21195042, 353.6588779 ,\n",
       "       193.22025947, 189.15290885, 514.00385551, 118.46530475,\n",
       "         6.85850795, 357.99240008, 766.22960138, 272.3588085 ,\n",
       "       338.70255111, 805.59951679, 110.30810469, 282.43922606,\n",
       "       237.97397085, 327.5453729 , 250.50102829, 387.63108673,\n",
       "       219.6262115 , 282.70571293, 121.82703885, 269.01166221,\n",
       "       414.34973734, 100.21896049, 232.25342627, 134.21041406,\n",
       "       381.01782288, 369.83271571, 446.53335074, 221.12505014,\n",
       "       166.56409522, 442.40217011, 274.70213933, 258.14654234,\n",
       "       400.7904999 , 312.49946677, 306.69075908, 344.07116021,\n",
       "       131.82178079, 209.69271652, 584.68960904, 257.34558478,\n",
       "       399.84815899, 232.63226309, 374.32725282, 360.11426223,\n",
       "       578.1081839 , 361.70754833, 256.54191029, 279.09686509,\n",
       "       671.58418712, 424.74802551, 191.75612626, 237.19844847,\n",
       "       420.45419808, 342.60412296, 285.44107741, 215.27572397,\n",
       "       378.94533162, 179.39633087, 781.46261051, 159.62814615,\n",
       "       456.11630551, 149.23910831, 276.56445587, 395.56778816,\n",
       "       581.6649518 , 464.32682593, 240.25116676, 302.38037658,\n",
       "       263.18890819, 483.37137563, 147.43447257, 333.5673243 ,\n",
       "       225.47229823, 461.8669189 , 311.33650123, 239.52740012,\n",
       "       458.39709776, 210.23746647, 511.09643379, 275.37422218,\n",
       "       115.09887561, 589.43055524, 270.28554715, 182.49770054,\n",
       "       274.84075321, 390.49232667, 574.58227358, 362.41523168,\n",
       "       240.80777543, 323.21936485, 369.02600682, 337.09561417,\n",
       "       325.65219816, 309.33066338, 173.59463504, 376.50681459,\n",
       "       515.37208746, 333.68894435, 397.13960053, 390.93765322,\n",
       "       240.50091924, 378.98401573, 256.13822256, 253.01735625,\n",
       "       251.3628835 , 405.09245199, 104.42098029, 188.02546754,\n",
       "       345.99770477, 507.05422131, 139.48125366, 250.75633934,\n",
       "       450.16191778, 340.97910375, 347.80401337, 247.67153462,\n",
       "       408.33999311, 150.02363869, 371.82854999, 337.24340808,\n",
       "       516.2692981 , 369.74536764,  51.15448881, 129.53113188,\n",
       "       157.05906361, 527.36898711, 204.45097072, 127.90365601,\n",
       "       452.37700972, 448.40627863, 408.8912032 ,  86.47915711,\n",
       "       421.27195957, 242.61216192, 576.57405411,  87.6409484 ,\n",
       "       365.75069316, 128.98775653, 321.6532442 , 426.35364214,\n",
       "       379.25283868, 135.61233385, 466.75425835, 134.27129483,\n",
       "       244.74714964, 318.97435526, 121.86064935, 265.68830609,\n",
       "       114.64079276, 367.04131444, 179.04654956, 477.45166909,\n",
       "       266.35689549, 670.24833965, 368.61640133, 460.53567082,\n",
       "       332.66110283, 684.69969367, 121.15698019, 277.31349349,\n",
       "       497.68689871, 425.72211551, 279.51486339, 689.72353972,\n",
       "       464.82476849, 334.36088601, 325.72219398, 158.14521509,\n",
       "       293.67991009, 212.39758012, 506.29429262, 275.13910276,\n",
       "       344.93590317, 338.16731579, 676.06599101, 603.12678574,\n",
       "       130.66954069, 368.01060913, 331.67746086, 193.47002712,\n",
       "       504.75869463, 324.81199157, 231.87688759, 198.33679044,\n",
       "        93.29254791, 210.09181985, 252.9889791 , 324.00831324,\n",
       "        83.84395883, 396.16884952, 242.72579945, 323.38556176,\n",
       "       385.86414584, 191.74640324, 353.05785965, 251.6197457 ,\n",
       "       388.11133359, 345.15791761, 176.86490879, 465.19676515,\n",
       "       350.85196754, 277.63660827, 377.44860252, 491.95451696,\n",
       "       147.41048896, 388.81796078, 348.13351268, 467.53266495,\n",
       "       109.88892744, 281.8797267 , 164.02667399, 391.55409255,\n",
       "       276.8989077 , 328.58844049, 356.88857087, 332.73848646,\n",
       "       546.39250285, 351.82516977, 225.82781835, 136.82534739,\n",
       "       161.24417485, 193.41449914, 281.39748813, 225.48789287,\n",
       "       155.93332402, 234.71367984, 338.8150457 , 258.71936106,\n",
       "       444.04318137, 205.49531104, 399.13076756, 409.0604528 ,\n",
       "       480.7977647 ,  91.59586638, 259.88883881, 148.10933659,\n",
       "       205.06986097, 418.66283922, 309.49495487, 599.13192566,\n",
       "       229.19803076, 317.9002868 , 345.8584099 , 373.01049442,\n",
       "       532.88663994, 352.3882449 , 195.48117789, 403.31108102,\n",
       "       342.76424806, 113.69514947, 405.50129753, 490.65970992,\n",
       "       499.20670887, 154.87548545, 370.050027  , 356.55174793,\n",
       "       214.65994458,  73.78002017, 204.45673802, 316.91397692,\n",
       "       259.20701254, 412.41595922, 443.44676971, 286.67416786,\n",
       "       191.45573022, 367.89047607, 323.42277764, 363.61805823,\n",
       "       681.31525135, 204.53786736, 260.55026201, 400.38658906,\n",
       "       659.61194662, 338.07692706, 427.58911378, 112.78324303,\n",
       "       288.04635408, 353.63779219, 133.51083408, 292.7263953 ,\n",
       "       248.2942231 , 744.1449039 , 130.48086581, 220.15472892,\n",
       "       715.02480678, 478.09763299, 313.69616126, 372.37532762,\n",
       "       249.47008679, 262.54569118, 198.02845538, 149.87072421,\n",
       "       147.43757599, 400.78248027, 222.17109738, 210.82391706,\n",
       "       197.38513699, 157.7203821 , 441.75653839, 366.39319971,\n",
       "       295.23140317,  97.80844601, 158.81227113, 514.20451877,\n",
       "       403.92686795, 393.32157625, 386.71221005, 256.27536864,\n",
       "       237.06819222, 302.69930231,   6.85850795,   6.85850795,\n",
       "       596.38810392, 390.9860873 , 196.04409383,  82.88517724,\n",
       "       177.54505792, 534.08675964, 312.959026  , 577.2264272 ,\n",
       "       581.36989943, 239.68791541, 135.40537548, 185.63818258,\n",
       "       133.25108935, 161.77702395, 399.47577213, 527.83936208,\n",
       "       157.65527389, 194.89954917, 133.80614051, 177.20693032,\n",
       "       210.44120242, 150.4172908 , 260.39559615, 175.89631343,\n",
       "       207.27247928, 367.94995715, 436.36606083, 311.75158981,\n",
       "       501.36807203, 367.7454227 , 679.36463523, 259.46212272,\n",
       "       144.78202174, 435.63578326, 360.47678895,  65.91971287,\n",
       "       198.2414718 , 350.28445762, 360.71450256, 238.66572417,\n",
       "       330.45917129, 627.53558902, 399.6298089 , 408.39845071,\n",
       "       241.78615173, 738.06867167, 366.64280595, 382.78376036,\n",
       "       193.28047766, 225.8439977 ,  53.6134372 , 206.8089311 ,\n",
       "       319.30055538, 144.58970915, 310.58914519, 219.63545051,\n",
       "       575.83426734, 158.31229403, 213.34174942, 259.65742105,\n",
       "       375.10736236, 641.61535808, 320.93473102,  26.93527258,\n",
       "       515.86034149, 577.05828854, 815.70786098, 282.10316189,\n",
       "       228.72316821, 170.15402633, 270.74674201, 801.64901   ,\n",
       "       545.35160326,  98.18992173, 280.79308471, 275.89558455,\n",
       "       306.890664  , 525.44320539, 344.81559708, 236.42065952,\n",
       "       450.88199278,  76.42295318, 192.61922119, 349.81307762,\n",
       "       539.09719053, 301.24873906, 224.73627922, 237.66602054,\n",
       "       481.202071  , 547.22653382, 209.60012585, 219.44114719,\n",
       "       190.51090287, 139.65424628, 418.35519122])"
      ]
     },
     "execution_count": 9,
     "metadata": {},
     "output_type": "execute_result"
    }
   ],
   "source": [
    "reg_pred"
   ]
  },
  {
   "cell_type": "code",
   "execution_count": 10,
   "id": "d482e7ad",
   "metadata": {},
   "outputs": [],
   "source": [
    "from sklearn.metrics import r2_score"
   ]
  },
  {
   "cell_type": "markdown",
   "id": "cabe49c1",
   "metadata": {},
   "source": [
    "R square score"
   ]
  },
  {
   "cell_type": "code",
   "execution_count": 11,
   "id": "d8d5b07c",
   "metadata": {},
   "outputs": [
    {
     "name": "stdout",
     "output_type": "stream",
     "text": [
      "0.9818148575003433\n"
     ]
    }
   ],
   "source": [
    "from sklearn.metrics import r2_score\n",
    "linear_r2 = r2_score(y_test,reg_pred)\n",
    "print(linear_r2)"
   ]
  },
  {
   "cell_type": "markdown",
   "id": "01272cf1",
   "metadata": {},
   "source": [
    "adjusted R square score"
   ]
  },
  {
   "cell_type": "code",
   "execution_count": 13,
   "id": "5c3b32e3",
   "metadata": {},
   "outputs": [
    {
     "data": {
      "text/plain": [
       "0.9816587618565694"
      ]
     },
     "execution_count": 13,
     "metadata": {},
     "output_type": "execute_result"
    }
   ],
   "source": [
    "adjusted_linear_r2 = 1 - (1-linear_r2)*(len(y_test)-1)/(len(y_test)-x_test.shape[1]-1)\n",
    "adjusted_linear_r2"
   ]
  },
  {
   "cell_type": "markdown",
   "id": "ff683164",
   "metadata": {},
   "source": [
    "# Ridge regression"
   ]
  },
  {
   "cell_type": "code",
   "execution_count": null,
   "id": "90e6e319",
   "metadata": {},
   "outputs": [],
   "source": [
    "from sklearn.linear_model import Ridge"
   ]
  },
  {
   "cell_type": "code",
   "execution_count": null,
   "id": "7ca0ba83",
   "metadata": {},
   "outputs": [],
   "source": [
    "ridge = Ridge()"
   ]
  },
  {
   "cell_type": "code",
   "execution_count": null,
   "id": "b9d19fc5",
   "metadata": {},
   "outputs": [],
   "source": [
    "ridge.fit(x_train,y_train)"
   ]
  },
  {
   "cell_type": "code",
   "execution_count": null,
   "id": "067526e7",
   "metadata": {},
   "outputs": [],
   "source": [
    "ridge_pred = ridge.predict(x_test)"
   ]
  },
  {
   "cell_type": "code",
   "execution_count": null,
   "id": "cefbe712",
   "metadata": {},
   "outputs": [],
   "source": [
    "ridge_pred"
   ]
  },
  {
   "cell_type": "markdown",
   "id": "0c02d2e2",
   "metadata": {},
   "source": [
    "R square score"
   ]
  },
  {
   "cell_type": "code",
   "execution_count": null,
   "id": "d619807c",
   "metadata": {},
   "outputs": [],
   "source": [
    "from sklearn.metrics import r2_score\n",
    "ridge_r2 = r2_score(y_test,ridge_pred)\n",
    "print(ridge_r2)"
   ]
  },
  {
   "cell_type": "markdown",
   "id": "8a4d3fa4",
   "metadata": {},
   "source": [
    "Adjusted R square score"
   ]
  },
  {
   "cell_type": "code",
   "execution_count": null,
   "id": "a23876ae",
   "metadata": {},
   "outputs": [],
   "source": [
    "adjusted_ridge_r2 = 1 - (1-ridge_r2)*(len(y_test)-1)/(len(y_test)-x_test.shape[1]-1)\n",
    "adjusted_ridge_r2 "
   ]
  },
  {
   "cell_type": "markdown",
   "id": "4735b811",
   "metadata": {},
   "source": [
    "# Lasso regression"
   ]
  },
  {
   "cell_type": "code",
   "execution_count": null,
   "id": "cd439be7",
   "metadata": {},
   "outputs": [],
   "source": [
    "from sklearn.linear_model import Lasso\n",
    "lasso = Lasso()"
   ]
  },
  {
   "cell_type": "code",
   "execution_count": null,
   "id": "761fa7b7",
   "metadata": {},
   "outputs": [],
   "source": [
    "lasso.fit(x_train,y_train)"
   ]
  },
  {
   "cell_type": "code",
   "execution_count": null,
   "id": "07a56e02",
   "metadata": {},
   "outputs": [],
   "source": [
    "lasso_pred = lasso.predict(x_test)"
   ]
  },
  {
   "cell_type": "markdown",
   "id": "5172144b",
   "metadata": {},
   "source": [
    "R square score"
   ]
  },
  {
   "cell_type": "code",
   "execution_count": null,
   "id": "d68261cd",
   "metadata": {},
   "outputs": [],
   "source": [
    "from sklearn.metrics import r2_score\n",
    "lasso_r2 = r2_score(lasso_pred,y_test)\n",
    "lasso_r2"
   ]
  },
  {
   "cell_type": "markdown",
   "id": "15e136fb",
   "metadata": {},
   "source": [
    "Adjusted R square"
   ]
  },
  {
   "cell_type": "code",
   "execution_count": null,
   "id": "6360b755",
   "metadata": {},
   "outputs": [],
   "source": [
    "adjusted_lasso_r2 = 1 - (1-lasso_r2)*(len(y_test)-1)/(len(y_test)-x_test.shape[1]-1)\n",
    "adjusted_lasso_r2"
   ]
  },
  {
   "cell_type": "markdown",
   "id": "5021b7b9",
   "metadata": {},
   "source": [
    "# Elasticnet"
   ]
  },
  {
   "cell_type": "code",
   "execution_count": null,
   "id": "762ded05",
   "metadata": {},
   "outputs": [],
   "source": [
    "from sklearn.linear_model import ElasticNet"
   ]
  },
  {
   "cell_type": "code",
   "execution_count": null,
   "id": "973849d9",
   "metadata": {},
   "outputs": [],
   "source": [
    "elastic = ElasticNet()"
   ]
  },
  {
   "cell_type": "code",
   "execution_count": null,
   "id": "3aa311df",
   "metadata": {},
   "outputs": [],
   "source": [
    "elastic.fit(x_train,y_train)"
   ]
  },
  {
   "cell_type": "code",
   "execution_count": null,
   "id": "fd192787",
   "metadata": {},
   "outputs": [],
   "source": [
    "elastic_pred=elastic.predict(x_test)"
   ]
  },
  {
   "cell_type": "code",
   "execution_count": null,
   "id": "a3854f22",
   "metadata": {},
   "outputs": [],
   "source": [
    "elastic_pred"
   ]
  },
  {
   "cell_type": "markdown",
   "id": "81554c7b",
   "metadata": {},
   "source": [
    "R square"
   ]
  },
  {
   "cell_type": "code",
   "execution_count": null,
   "id": "1c579856",
   "metadata": {},
   "outputs": [],
   "source": [
    "from sklearn.metrics import r2_score\n",
    "elasticnet_r2=r2_score(lasso_pred,y_test)\n",
    "elasticnet_r2"
   ]
  },
  {
   "cell_type": "markdown",
   "id": "f60ecff3",
   "metadata": {},
   "source": [
    "Adjusted R square"
   ]
  },
  {
   "cell_type": "code",
   "execution_count": null,
   "id": "94f1baf1",
   "metadata": {},
   "outputs": [],
   "source": [
    "adjusted_elasticnet_r2 = 1 - (1-elasticnet_r2)*(len(y_test)-1)/(len(y_test)-x_test.shape[1]-1)\n",
    "adjusted_elasticnet_r2"
   ]
  },
  {
   "cell_type": "markdown",
   "id": "2de2439b",
   "metadata": {},
   "source": [
    "# Support Vector Regressor"
   ]
  },
  {
   "cell_type": "markdown",
   "id": "e9bf8561",
   "metadata": {},
   "source": [
    "from sklearn.svm import SVR"
   ]
  },
  {
   "cell_type": "code",
   "execution_count": null,
   "id": "0c1f5152",
   "metadata": {},
   "outputs": [],
   "source": [
    "svr = SVR()"
   ]
  },
  {
   "cell_type": "code",
   "execution_count": null,
   "id": "2dcd9232",
   "metadata": {},
   "outputs": [],
   "source": [
    "svr.fit(x_train,y_train)"
   ]
  },
  {
   "cell_type": "code",
   "execution_count": null,
   "id": "82db3aa1",
   "metadata": {},
   "outputs": [],
   "source": [
    "svr_pred = svr.predict(x_test)"
   ]
  },
  {
   "cell_type": "markdown",
   "id": "b2b38c88",
   "metadata": {},
   "source": [
    "R square"
   ]
  },
  {
   "cell_type": "code",
   "execution_count": null,
   "id": "5e7c401c",
   "metadata": {},
   "outputs": [],
   "source": [
    "from sklearn.metrics import r2_score\n",
    "svr_r2=r2_score(lasso_pred,y_test)\n",
    "svr_r2"
   ]
  },
  {
   "cell_type": "markdown",
   "id": "db857b82",
   "metadata": {},
   "source": [
    "Adjusted R square"
   ]
  },
  {
   "cell_type": "code",
   "execution_count": null,
   "id": "1017f131",
   "metadata": {},
   "outputs": [],
   "source": [
    "adjusted_svr_r2 = 1 - (1-score)*(len(y_test)-1)/(len(y_test)-x_test.shape[1]-1)\n",
    "adjusted_svr_r2"
   ]
  },
  {
   "cell_type": "markdown",
   "id": "ba5d90d3",
   "metadata": {},
   "source": [
    "Applying hyperperameter tunning"
   ]
  },
  {
   "cell_type": "code",
   "execution_count": null,
   "id": "50d9cbd2",
   "metadata": {},
   "outputs": [],
   "source": [
    "params = {'kernel':['linear','poly','sigmoid','rbf']}"
   ]
  },
  {
   "cell_type": "code",
   "execution_count": null,
   "id": "fe3c0543",
   "metadata": {},
   "outputs": [],
   "source": [
    "from sklearn.model_selection import GridSearchCV"
   ]
  },
  {
   "cell_type": "code",
   "execution_count": null,
   "id": "51602b64",
   "metadata": {},
   "outputs": [],
   "source": [
    "grid = GridSearchCV(estimator=svr,param_grid=params,cv=10,n_jobs=-1)"
   ]
  },
  {
   "cell_type": "code",
   "execution_count": null,
   "id": "63986c85",
   "metadata": {},
   "outputs": [],
   "source": [
    "grid.fit(x_train,y_train)"
   ]
  },
  {
   "cell_type": "code",
   "execution_count": null,
   "id": "2c4c300a",
   "metadata": {},
   "outputs": [],
   "source": [
    "grid.best_params_"
   ]
  },
  {
   "cell_type": "code",
   "execution_count": null,
   "id": "387641c7",
   "metadata": {},
   "outputs": [],
   "source": [
    "grid.best_score_"
   ]
  },
  {
   "cell_type": "code",
   "execution_count": null,
   "id": "6fc0361c",
   "metadata": {},
   "outputs": [],
   "source": [
    "results = {'models':['linear','ridge','lasso','elasticnet','svr'],\n",
    "           'r_square':[linear_r2,ridge_r2,lasso_r2,elasticnet_r2,svr_r2],\n",
    "           'adjusted_r_square':[adjusted_linear_r2,adjusted_ridge_r2,adjusted_lasso_r2,adjusted_elasticnet_r2,adjusted_svr_r2]}"
   ]
  },
  {
   "cell_type": "code",
   "execution_count": null,
   "id": "2660ee95",
   "metadata": {},
   "outputs": [],
   "source": [
    "df_score = pd.DataFrame(results)"
   ]
  },
  {
   "cell_type": "code",
   "execution_count": null,
   "id": "e0932a05",
   "metadata": {},
   "outputs": [],
   "source": [
    "df_score"
   ]
  },
  {
   "cell_type": "markdown",
   "id": "2d478270",
   "metadata": {},
   "source": [
    "# Now talk about assumption of linear regression"
   ]
  },
  {
   "cell_type": "markdown",
   "id": "a7cc6795",
   "metadata": {},
   "source": [
    "1. linear relation between input and output feature.\n",
    "\n",
    "2. No multicolinearity.\n",
    "\n",
    "3. residuals should be Normally distributed.\n",
    "\n",
    "4. Homoscedasticity - spread of residual in graph should be equal.\n",
    "\n",
    "5. No autocorrelation of errors - no autocorrelation in plot of residuals."
   ]
  },
  {
   "cell_type": "markdown",
   "id": "ad4b1295",
   "metadata": {},
   "source": [
    "1. linear relation between input and output feature"
   ]
  },
  {
   "cell_type": "code",
   "execution_count": null,
   "id": "12031d3d",
   "metadata": {},
   "outputs": [],
   "source": [
    "plt.figure(figsize=(15,15))\n",
    "for i in range(x_test.shape[1]):\n",
    "    plt.subplot(3,3,i+1)\n",
    "    plt.xlabel('x_train')\n",
    "    plt.ylabel('y_train')\n",
    "    plt.scatter(x_train.T[i],y_train)"
   ]
  },
  {
   "cell_type": "markdown",
   "id": "e1a972ef",
   "metadata": {},
   "source": [
    "2. No multicolinearity"
   ]
  },
  {
   "cell_type": "code",
   "execution_count": null,
   "id": "3a4fbb53",
   "metadata": {},
   "outputs": [],
   "source": [
    "from statsmodels.stats.outliers_influence import variance_inflation_factor"
   ]
  },
  {
   "cell_type": "code",
   "execution_count": null,
   "id": "d05828d0",
   "metadata": {},
   "outputs": [],
   "source": [
    "vif = []\n",
    "\n",
    "for i in range(x_train.shape[1]):\n",
    "    vif.append(variance_inflation_factor(x_train,i))"
   ]
  },
  {
   "cell_type": "code",
   "execution_count": null,
   "id": "9a5c9840",
   "metadata": {},
   "outputs": [],
   "source": [
    "vif"
   ]
  },
  {
   "cell_type": "markdown",
   "id": "91ab9d93",
   "metadata": {},
   "source": [
    "3. residuals should be Normally distributed."
   ]
  },
  {
   "cell_type": "code",
   "execution_count": null,
   "id": "f19bc3b1",
   "metadata": {},
   "outputs": [],
   "source": [
    "residuals = y_test-reg_pred"
   ]
  },
  {
   "cell_type": "code",
   "execution_count": null,
   "id": "477ad45a",
   "metadata": {},
   "outputs": [],
   "source": [
    "sns.displot(residuals , kind='kde')"
   ]
  },
  {
   "cell_type": "markdown",
   "id": "49ccce9b",
   "metadata": {},
   "source": [
    "4. Homoscedasticity - spread of residuals should be equal on the x axis"
   ]
  },
  {
   "cell_type": "code",
   "execution_count": null,
   "id": "169670f5",
   "metadata": {},
   "outputs": [],
   "source": [
    "plt.scatter(reg_pred,residuals)"
   ]
  },
  {
   "cell_type": "markdown",
   "id": "809b2d41",
   "metadata": {},
   "source": [
    "5. No Aoutocorrelation of errors."
   ]
  },
  {
   "cell_type": "code",
   "execution_count": null,
   "id": "54b41e30",
   "metadata": {},
   "outputs": [],
   "source": [
    "plt.plot(residuals)"
   ]
  },
  {
   "cell_type": "code",
   "execution_count": null,
   "id": "86f1ab24",
   "metadata": {},
   "outputs": [],
   "source": []
  }
 ],
 "metadata": {
  "kernelspec": {
   "display_name": "Python 3 (ipykernel)",
   "language": "python",
   "name": "python3"
  },
  "language_info": {
   "codemirror_mode": {
    "name": "ipython",
    "version": 3
   },
   "file_extension": ".py",
   "mimetype": "text/x-python",
   "name": "python",
   "nbconvert_exporter": "python",
   "pygments_lexer": "ipython3",
   "version": "3.9.12"
  }
 },
 "nbformat": 4,
 "nbformat_minor": 5
}
